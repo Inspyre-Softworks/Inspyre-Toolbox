{
 "cells": [
  {
   "cell_type": "markdown",
   "id": "3bdabebdaab229d2",
   "metadata": {},
   "source": []
  },
  {
   "cell_type": "code",
   "execution_count": 15,
   "id": "3f595a7808c4425c",
   "metadata": {
    "ExecuteTime": {
     "end_time": "2024-10-02T04:15:10.209760Z",
     "start_time": "2024-10-02T04:14:43.785616Z"
    }
   },
   "outputs": [
    {
     "name": "stdout",
     "output_type": "stream",
     "text": [
      "Using version ^1.1.1 for jupyter\n",
      "Using version ^6.29.5 for ipykernel\n",
      "\n",
      "Updating dependencies\n",
      "Resolving dependencies...\n",
      "\n",
      "Package operations: 5 installs, 0 updates, 0 removals\n",
      "\n",
      "  - Installing jupyterlab-widgets (3.0.13)\n",
      "  - Installing widgetsnbextension (4.0.13)\n",
      "  - Installing ipywidgets (8.1.5)\n",
      "  - Installing jupyter-console (6.6.3)\n",
      "  - Installing jupyter (1.1.1)\n",
      "\n",
      "Writing lock file\n",
      "Installing dependencies from lock file\n",
      "\n",
      "No dependencies to install or update\n",
      "\n",
      "Installing the current project: inspyre-toolbox (v1.6.0-dev.10)\n"
     ]
    }
   ],
   "source": [
    "!poetry add --group examples jupyter ipykernel\n",
    "!poetry install"
   ]
  },
  {
   "cell_type": "code",
   "execution_count": 22,
   "id": "ccaafd587865ae62",
   "metadata": {
    "ExecuteTime": {
     "end_time": "2024-10-02T19:23:51.619982Z",
     "start_time": "2024-10-02T19:23:49.306946Z"
    }
   },
   "outputs": [
    {
     "name": "stdout",
     "output_type": "stream",
     "text": [
      "[<Version('1.0a2')>, <Version('1.0a3')>, <Version('1.0a4')>, <Version('1.0a5')>, <Version('1.0a6')>, <Version('1.0a7')>, <Version('1.0a8')>, <Version('1.1')>, <Version('1.1.1')>, <Version('1.1.2')>, <Version('1.1.3')>, <Version('1.1.4')>, <Version('1.1.5')>, <Version('1.2a1')>, <Version('1.2')>, <Version('1.2.1a2')>, <Version('1.2.1a3')>, <Version('1.2.1a4')>, <Version('1.2.1')>, <Version('1.2.2')>, <Version('1.2.3')>, <Version('1.2.6')>, <Version('1.3.dev1')>, <Version('1.3')>, <Version('1.3.1.dev1')>, <Version('1.3.1.dev2')>, <Version('1.3.1.dev3')>, <Version('1.3.2')>, <Version('1.4.0')>, <Version('1.4.1')>, <Version('1.4.2')>, <Version('1.4.3')>, <Version('1.5.0')>, <Version('1.5.1')>, <Version('1.5.2')>, <Version('1.5.3')>, <Version('1.6.0.dev3')>, <Version('1.6.0.dev4')>, <Version('1.6.0.dev5')>, <Version('1.6.0.dev6')>, <Version('1.6.0.dev7')>, <Version('1.6.0.dev8')>, <Version('1.6.0.dev9')>, <Version('1.6.0.dev10')>]\n",
      "False\n",
      "None\n"
     ]
    },
    {
     "data": {
      "text/html": [
       "<pre style=\"white-space:pre;overflow-x:auto;line-height:normal;font-family:Menlo,'DejaVu Sans Mono',consolas,'Courier New',monospace\"><span style=\"color: #0000ff; text-decoration-color: #0000ff\">┌──────────────────────┬──────────────────────────────────────────────────────────────────────────────────────────┐</span>\n",
       "<span style=\"color: #0000ff; text-decoration-color: #0000ff\">│</span><span style=\"color: #008080; text-decoration-color: #008080\"> Package Name         </span><span style=\"color: #0000ff; text-decoration-color: #0000ff\">│</span>                                     Inspyre-Toolbox                                      <span style=\"color: #0000ff; text-decoration-color: #0000ff\">│</span>\n",
       "<span style=\"color: #0000ff; text-decoration-color: #0000ff\">├──────────────────────┼──────────────────────────────────────────────────────────────────────────────────────────┤</span>\n",
       "<span style=\"color: #0000ff; text-decoration-color: #0000ff\">│</span><span style=\"color: #7fbfbf; text-decoration-color: #7fbfbf\"> Installed Version    </span><span style=\"color: #0000ff; text-decoration-color: #0000ff\">│</span><span style=\"color: #7f7f7f; text-decoration-color: #7f7f7f\">                                       1.6.0.dev10                                        </span><span style=\"color: #0000ff; text-decoration-color: #0000ff\">│</span>\n",
       "<span style=\"color: #0000ff; text-decoration-color: #0000ff\">├──────────────────────┼──────────────────────────────────────────────────────────────────────────────────────────┤</span>\n",
       "<span style=\"color: #0000ff; text-decoration-color: #0000ff\">│</span><span style=\"color: #008080; text-decoration-color: #008080\"> Latest Stable        </span><span style=\"color: #0000ff; text-decoration-color: #0000ff\">│</span>                                          1.5.3                                           <span style=\"color: #0000ff; text-decoration-color: #0000ff\">│</span>\n",
       "<span style=\"color: #0000ff; text-decoration-color: #0000ff\">│</span><span style=\"color: #008080; text-decoration-color: #008080\"> Version              </span><span style=\"color: #0000ff; text-decoration-color: #0000ff\">│</span>                                                                                          <span style=\"color: #0000ff; text-decoration-color: #0000ff\">│</span>\n",
       "<span style=\"color: #0000ff; text-decoration-color: #0000ff\">├──────────────────────┼──────────────────────────────────────────────────────────────────────────────────────────┤</span>\n",
       "<span style=\"color: #0000ff; text-decoration-color: #0000ff\">│</span><span style=\"color: #7fbfbf; text-decoration-color: #7fbfbf\"> Latest Pre-release   </span><span style=\"color: #0000ff; text-decoration-color: #0000ff\">│</span><span style=\"color: #7f7f7f; text-decoration-color: #7f7f7f\">                                       1.6.0.dev10                                        </span><span style=\"color: #0000ff; text-decoration-color: #0000ff\">│</span>\n",
       "<span style=\"color: #0000ff; text-decoration-color: #0000ff\">│</span><span style=\"color: #7fbfbf; text-decoration-color: #7fbfbf\"> Version              </span><span style=\"color: #0000ff; text-decoration-color: #0000ff\">│</span><span style=\"color: #7f7f7f; text-decoration-color: #7f7f7f\">                                                                                          </span><span style=\"color: #0000ff; text-decoration-color: #0000ff\">│</span>\n",
       "<span style=\"color: #0000ff; text-decoration-color: #0000ff\">├──────────────────────┼──────────────────────────────────────────────────────────────────────────────────────────┤</span>\n",
       "<span style=\"color: #0000ff; text-decoration-color: #0000ff\">│</span><span style=\"color: #008080; text-decoration-color: #008080\"> Python Executable    </span><span style=\"color: #0000ff; text-decoration-color: #0000ff\">│</span> C:\\Users\\tayja\\AppData\\Local\\pypoetry\\Cache\\virtualenvs\\inspyre-toolbox-KFPCAVQN-py3.12… <span style=\"color: #0000ff; text-decoration-color: #0000ff\">│</span>\n",
       "<span style=\"color: #0000ff; text-decoration-color: #0000ff\">│</span><span style=\"color: #008080; text-decoration-color: #008080\"> Path                 </span><span style=\"color: #0000ff; text-decoration-color: #0000ff\">│</span>                                                                                          <span style=\"color: #0000ff; text-decoration-color: #0000ff\">│</span>\n",
       "<span style=\"color: #0000ff; text-decoration-color: #0000ff\">├──────────────────────┼──────────────────────────────────────────────────────────────────────────────────────────┤</span>\n",
       "<span style=\"color: #0000ff; text-decoration-color: #0000ff\">│</span><span style=\"color: #7fbfbf; text-decoration-color: #7fbfbf\"> Python Version       </span><span style=\"color: #0000ff; text-decoration-color: #0000ff\">│</span><span style=\"color: #7f7f7f; text-decoration-color: #7f7f7f\">     3.12.6 (tags/v3.12.6:a4a2d2b, Sep  6 2024, 20:11:23) [MSC v.1940 64 bit (AMD64)]     </span><span style=\"color: #0000ff; text-decoration-color: #0000ff\">│</span>\n",
       "<span style=\"color: #0000ff; text-decoration-color: #0000ff\">└──────────────────────┴──────────────────────────────────────────────────────────────────────────────────────────┘</span>\n",
       "</pre>\n"
      ],
      "text/plain": [
       "\u001b[94m┌──────────────────────┬──────────────────────────────────────────────────────────────────────────────────────────┐\u001b[0m\n",
       "\u001b[94m│\u001b[0m\u001b[36m \u001b[0m\u001b[36mPackage Name        \u001b[0m\u001b[36m \u001b[0m\u001b[94m│\u001b[0m                                     Inspyre-Toolbox                                      \u001b[94m│\u001b[0m\n",
       "\u001b[94m├──────────────────────┼──────────────────────────────────────────────────────────────────────────────────────────┤\u001b[0m\n",
       "\u001b[94m│\u001b[0m\u001b[2;36m \u001b[0m\u001b[2;36mInstalled Version   \u001b[0m\u001b[2;36m \u001b[0m\u001b[94m│\u001b[0m\u001b[2m \u001b[0m\u001b[2m                                      1.6.0.dev10                                       \u001b[0m\u001b[2m \u001b[0m\u001b[94m│\u001b[0m\n",
       "\u001b[94m├──────────────────────┼──────────────────────────────────────────────────────────────────────────────────────────┤\u001b[0m\n",
       "\u001b[94m│\u001b[0m\u001b[36m \u001b[0m\u001b[36mLatest Stable       \u001b[0m\u001b[36m \u001b[0m\u001b[94m│\u001b[0m                                          1.5.3                                           \u001b[94m│\u001b[0m\n",
       "\u001b[94m│\u001b[0m\u001b[36m \u001b[0m\u001b[36mVersion             \u001b[0m\u001b[36m \u001b[0m\u001b[94m│\u001b[0m                                                                                          \u001b[94m│\u001b[0m\n",
       "\u001b[94m├──────────────────────┼──────────────────────────────────────────────────────────────────────────────────────────┤\u001b[0m\n",
       "\u001b[94m│\u001b[0m\u001b[2;36m \u001b[0m\u001b[2;36mLatest Pre-release  \u001b[0m\u001b[2;36m \u001b[0m\u001b[94m│\u001b[0m\u001b[2m \u001b[0m\u001b[2m                                      1.6.0.dev10                                       \u001b[0m\u001b[2m \u001b[0m\u001b[94m│\u001b[0m\n",
       "\u001b[94m│\u001b[0m\u001b[2;36m \u001b[0m\u001b[2;36mVersion             \u001b[0m\u001b[2;36m \u001b[0m\u001b[94m│\u001b[0m\u001b[2m                                                                                          \u001b[0m\u001b[94m│\u001b[0m\n",
       "\u001b[94m├──────────────────────┼──────────────────────────────────────────────────────────────────────────────────────────┤\u001b[0m\n",
       "\u001b[94m│\u001b[0m\u001b[36m \u001b[0m\u001b[36mPython Executable   \u001b[0m\u001b[36m \u001b[0m\u001b[94m│\u001b[0m C:\\Users\\tayja\\AppData\\Local\\pypoetry\\Cache\\virtualenvs\\inspyre-toolbox-KFPCAVQN-py3.12… \u001b[94m│\u001b[0m\n",
       "\u001b[94m│\u001b[0m\u001b[36m \u001b[0m\u001b[36mPath                \u001b[0m\u001b[36m \u001b[0m\u001b[94m│\u001b[0m                                                                                          \u001b[94m│\u001b[0m\n",
       "\u001b[94m├──────────────────────┼──────────────────────────────────────────────────────────────────────────────────────────┤\u001b[0m\n",
       "\u001b[94m│\u001b[0m\u001b[2;36m \u001b[0m\u001b[2;36mPython Version      \u001b[0m\u001b[2;36m \u001b[0m\u001b[94m│\u001b[0m\u001b[2m \u001b[0m\u001b[2m    3.12.6 (tags/v3.12.6:a4a2d2b, Sep  6 2024, 20:11:23) [MSC v.1940 64 bit (AMD64)]    \u001b[0m\u001b[2m \u001b[0m\u001b[94m│\u001b[0m\n",
       "\u001b[94m└──────────────────────┴──────────────────────────────────────────────────────────────────────────────────────────┘\u001b[0m\n"
      ]
     },
     "metadata": {},
     "output_type": "display_data"
    },
    {
     "name": "stdout",
     "output_type": "stream",
     "text": [
      "None\n",
      "1.6.0-dev.10\n"
     ]
    }
   ],
   "source": [
    "from pathlib import Path\n",
    "from inspyre_toolbox.ver_man.helpers import get_version_from_file\n",
    "from inspyre_toolbox.ver_man.classes.pypi import PyPiVersionInfo\n",
    "\n",
    "PACKAGE_NAME = 'Inspyre-Toolbox'\n",
    "VERSION_FILE = Path('../inspyre_toolbox/common/about/version/VERSION').expanduser().resolve()\n",
    "PYPI_INFO = PyPiVersionInfo(PACKAGE_NAME)\n",
    "\n",
    "print(PYPI_INFO.all_versions)\n",
    "print(PYPI_INFO.update_available)\n",
    "\n",
    "ver = get_version_from_file(VERSION_FILE)\n",
    "print(ver.print_version())\n",
    "print(PYPI_INFO.print_version_info())\n",
    "\n",
    "print(ver)"
   ]
  },
  {
   "cell_type": "code",
   "execution_count": 11,
   "id": "b1034eb8d35bd55c",
   "metadata": {},
   "outputs": [
    {
     "ename": "NameError",
     "evalue": "name 'PyPiVersionInfo' is not defined",
     "output_type": "error",
     "traceback": [
      "\u001b[1;31m---------------------------------------------------------------------------\u001b[0m",
      "\u001b[1;31mNameError\u001b[0m                                 Traceback (most recent call last)",
      "Cell \u001b[1;32mIn[11], line 1\u001b[0m\n\u001b[1;32m----> 1\u001b[0m PYPI_INFO \u001b[38;5;241m=\u001b[39m \u001b[43mPyPiVersionInfo\u001b[49m(PACKAGE_NAME)\n",
      "\u001b[1;31mNameError\u001b[0m: name 'PyPiVersionInfo' is not defined"
     ]
    }
   ],
   "source": []
  },
  {
   "cell_type": "code",
   "execution_count": null,
   "id": "708d6acc-c073-4ca0-8a30-2c2c72e84d59",
   "metadata": {},
   "outputs": [],
   "source": []
  }
 ],
 "metadata": {
  "kernelspec": {
   "display_name": "Python 3 (ipykernel)",
   "language": "python",
   "name": "python3"
  },
  "language_info": {
   "codemirror_mode": {
    "name": "ipython",
    "version": 3
   },
   "file_extension": ".py",
   "mimetype": "text/x-python",
   "name": "python",
   "nbconvert_exporter": "python",
   "pygments_lexer": "ipython3",
   "version": "3.12.6"
  }
 },
 "nbformat": 4,
 "nbformat_minor": 5
}
