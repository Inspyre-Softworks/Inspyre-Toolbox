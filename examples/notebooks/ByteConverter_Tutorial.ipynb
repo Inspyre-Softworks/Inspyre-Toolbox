{
 "cells": [
  {
   "cell_type": "markdown",
   "id": "c4547140",
   "metadata": {},
   "source": [
    "# Introduction to ByteConverter\n",
    "\n",
    "This tutorial introduces the `ByteConverter` class, designed for converting between various units of digital information. From bytes to yottabytes and bits to yottabits, this class facilitates easy and accurate data size conversions essential for handling digital storage and transmission capacities.\n"
   ]
  },
  {
   "cell_type": "markdown",
   "id": "ec0d094f",
   "metadata": {},
   "source": [
    "## Setting Up the ByteConverter Class\n",
    "\n",
    "To use the `ByteConverter` class, first define it in your Python environment. The class includes a dictionary of units for conversion and methods for initializing instances and converting values.\n"
   ]
  },
  {
   "cell_type": "code",
   "execution_count": 1,
   "id": "8f64e775",
   "metadata": {},
   "outputs": [],
   "source": [
    "class ByteConverter:\n",
    "    units = {\n",
    "        'byte': 1,\n",
    "        'kilobyte': 1024,\n",
    "        'megabyte': 1024**2,\n",
    "        'gigabyte': 1024**3,\n",
    "        'terabyte': 1024**4,\n",
    "        'petabyte': 1024**5,\n",
    "        'exabyte': 1024**6,\n",
    "        'zetabyte': 1024**7,\n",
    "        'yottabyte': 1024**8,\n",
    "        'bit': 1/8,\n",
    "        'kilobit': 1024/8,\n",
    "        'megabit': (1024**2)/8,\n",
    "        'gigabit': (1024**3)/8,\n",
    "        'terabit': (1024**4)/8,\n",
    "        'petabit': (1024**5)/8,\n",
    "        'exabit': (1024**6)/8,\n",
    "        'zetabit': (1024**7)/8,\n",
    "        'yottabit': (1024**8)/8,\n",
    "    }\n",
    "\n",
    "    def __init__(self, value, unit):\n",
    "        self.__bytes = value * self.units[unit]\n",
    "\n",
    "    def convert(self, unit):\n",
    "        return self.__bytes / self.units[unit]\n",
    "\n",
    "    @property\n",
    "    def bytes(self):\n",
    "        return self.convert('byte')\n",
    "    # Additional property methods...\n"
   ]
  },
  {
   "cell_type": "markdown",
   "id": "c83cc625",
   "metadata": {},
   "source": [
    "## Instantiating ByteConverter\n",
    "\n",
    "Creating an instance of the `ByteConverter` requires specifying the initial value and its unit. This section demonstrates how to instantiate the class with different units.\n"
   ]
  },
  {
   "cell_type": "code",
   "execution_count": 2,
   "id": "12c919d8",
   "metadata": {},
   "outputs": [
    {
     "name": "stdout",
     "output_type": "stream",
     "text": [
      "Value in bytes: 1073741824.0\n"
     ]
    }
   ],
   "source": [
    "# Example: Initializing with 1 Gigabyte\n",
    "converter = ByteConverter(1, 'gigabyte')\n",
    "print(f\"Value in bytes: {converter.bytes}\")\n"
   ]
  },
  {
   "cell_type": "markdown",
   "id": "354c6851",
   "metadata": {},
   "source": [
    "## Basic Conversion\n",
    "\n",
    "The `convert` method allows for converting the initial value to a different unit. Examples below showcase basic conversions between common units of digital information.\n"
   ]
  },
  {
   "cell_type": "code",
   "execution_count": 3,
   "id": "b89c907e",
   "metadata": {},
   "outputs": [
    {
     "name": "stdout",
     "output_type": "stream",
     "text": [
      "1 GB in MB: 1024.0\n"
     ]
    }
   ],
   "source": [
    "# Convert 1 Gigabyte to Megabytes\n",
    "print(f\"1 GB in MB: {converter.convert('megabyte')}\")\n"
   ]
  },
  {
   "cell_type": "markdown",
   "id": "d59a9ceb",
   "metadata": {},
   "source": [
    "## Accessing Properties\n",
    "\n",
    "For convenience, the `ByteConverter` class includes property methods for directly accessing the value in various units without explicitly calling the `convert` method.\n"
   ]
  },
  {
   "cell_type": "code",
   "execution_count": 4,
   "id": "73b037fc",
   "metadata": {},
   "outputs": [
    {
     "ename": "AttributeError",
     "evalue": "'ByteConverter' object has no attribute 'kilobytes'",
     "output_type": "error",
     "traceback": [
      "\u001b[0;31m---------------------------------------------------------------------------\u001b[0m",
      "\u001b[0;31mAttributeError\u001b[0m                            Traceback (most recent call last)",
      "\u001b[1;32m/workspace/Inspyre-Toolbox/examples/notebooks/ByteConverter_Tutorial.ipynb Cell 9\u001b[0m line \u001b[0;36m2\n\u001b[1;32m      <a href='vscode-notebook-cell://tayjaybabee-inspyretool-q5b6qrb3181.ws-us108.gitpod.io/workspace/Inspyre-Toolbox/examples/notebooks/ByteConverter_Tutorial.ipynb#X11sdnNjb2RlLXJlbW90ZQ%3D%3D?line=0'>1</a>\u001b[0m \u001b[39m# Access the value in Kilobytes directly\u001b[39;00m\n\u001b[0;32m----> <a href='vscode-notebook-cell://tayjaybabee-inspyretool-q5b6qrb3181.ws-us108.gitpod.io/workspace/Inspyre-Toolbox/examples/notebooks/ByteConverter_Tutorial.ipynb#X11sdnNjb2RlLXJlbW90ZQ%3D%3D?line=1'>2</a>\u001b[0m \u001b[39mprint\u001b[39m(\u001b[39mf\u001b[39m\u001b[39m\"\u001b[39m\u001b[39mValue in KB: \u001b[39m\u001b[39m{\u001b[39;00mconverter\u001b[39m.\u001b[39;49mkilobytes\u001b[39m}\u001b[39;00m\u001b[39m\"\u001b[39m)\n",
      "\u001b[0;31mAttributeError\u001b[0m: 'ByteConverter' object has no attribute 'kilobytes'"
     ]
    }
   ],
   "source": [
    "# Access the value in Kilobytes directly\n",
    "print(f\"Value in KB: {converter.kilobytes}\")\n"
   ]
  },
  {
   "cell_type": "markdown",
   "id": "84abb7cf",
   "metadata": {},
   "source": [
    "## Advanced Examples\n",
    "\n",
    "This section covers more complex conversion scenarios, illustrating the flexibility and utility of the `ByteConverter` class in practical applications.\n"
   ]
  },
  {
   "cell_type": "code",
   "execution_count": null,
   "id": "d8003fc9",
   "metadata": {},
   "outputs": [],
   "source": [
    "# Convert 1 Terabyte to Gigabits\n",
    "tb_to_gbit_converter = ByteConverter(1, 'terabyte')\n",
    "print(f\"1 TB in Gigabits: {tb_to_gbit_converter.convert('gigabit')}\")\n"
   ]
  },
  {
   "cell_type": "markdown",
   "id": "b0a6b24d",
   "metadata": {},
   "source": [
    "## Conclusion\n",
    "\n",
    "The `ByteConverter` class simplifies conversions between digital information units, making it a valuable tool for developers dealing with data storage and network bandwidth calculations.\n"
   ]
  }
 ],
 "metadata": {
  "kernelspec": {
   "display_name": "Python 3",
   "language": "python",
   "name": "python3"
  },
  "language_info": {
   "codemirror_mode": {
    "name": "ipython",
    "version": 3
   },
   "file_extension": ".py",
   "mimetype": "text/x-python",
   "name": "python",
   "nbconvert_exporter": "python",
   "pygments_lexer": "ipython3",
   "version": "3.12.1"
  }
 },
 "nbformat": 4,
 "nbformat_minor": 5
}
