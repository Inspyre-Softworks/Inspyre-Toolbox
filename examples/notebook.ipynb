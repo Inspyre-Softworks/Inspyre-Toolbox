{
 "cells": [
  {
   "cell_type": "markdown",
   "metadata": {
    "collapsed": true,
    "pycharm": {
     "name": "#%% md\n"
    }
   },
   "source": [
    "# Some Examples and Usage of Inspyre Tooolbox"
   ]
  },
  {
   "cell_type": "markdown",
   "source": [
    "## .live_timer.Timer\n",
    "\n",
    "Here's one good example of this package in action.\n"
   ],
   "metadata": {
    "collapsed": false,
    "pycharm": {
     "name": "#%% md\n"
    }
   }
  },
  {
   "cell_type": "code",
   "execution_count": 1,
   "outputs": [
    {
     "name": "stdout",
     "output_type": "stream",
     "text": [
      "5 seconds!\n",
      "00:00:19\r"
     ]
    }
   ],
   "source": [
    "from inspyre_toolbox.live_timer import Timer\n",
    "from time import sleep\n",
    "from threading import Thread\n",
    "\n",
    "def warning():\n",
    "    print('5 sec warning!', end='\\r')\n",
    "    sleep(1)\n",
    "    print('', end='\\r')\n",
    "\n",
    "def stopwatch():\n",
    "\n",
    "    # Define the timer\n",
    "    timer = Timer()\n",
    "\n",
    "    # Start the timer.\n",
    "    timer.start()\n",
    "\n",
    "    for _ in list(range(20)):\n",
    "        print(timer.get_elapsed(), end='\\r')\n",
    "        if _ == 15:\n",
    "            print('5 seconds!')\n",
    "        sleep(1)\n",
    "\n",
    "# Let's call it.\n",
    "stopwatch()"
   ],
   "metadata": {
    "collapsed": false,
    "pycharm": {
     "name": "#%%\n"
    }
   }
  },
  {
   "cell_type": "markdown",
   "source": [
    "## .humanize.Numerical\n",
    "\n",
    "Here's a simple example of how a use case for 'Numerical';"
   ],
   "metadata": {
    "collapsed": false,
    "pycharm": {
     "name": "#%% md\n"
    }
   }
  },
  {
   "cell_type": "code",
   "execution_count": 9,
   "outputs": [
    {
     "name": "stdout",
     "output_type": "stream",
     "text": [
      "Please enter a number!\n",
      "number has a value of  and is of type <class 'str'>. An integer or float was needed. Type <class 'str'> is not valid. Must be <class 'int'> or <class 'float'>\n"
     ]
    },
    {
     "ename": "NotANumberError",
     "evalue": "",
     "output_type": "error",
     "traceback": [
      "\u001B[0;31m---------------------------------------------------------------------------\u001B[0m",
      "\u001B[0;31mValueError\u001B[0m                                Traceback (most recent call last)",
      "\u001B[0;32m~/Projects/Inspyre-Toolbox/inspyre_toolbox/humanize/__init__.py\u001B[0m in \u001B[0;36m__init__\u001B[0;34m(self, number, noun, store_as_float)\u001B[0m\n\u001B[1;32m    200\u001B[0m             \u001B[0;32mtry\u001B[0m\u001B[0;34m:\u001B[0m\u001B[0;34m\u001B[0m\u001B[0;34m\u001B[0m\u001B[0m\n\u001B[0;32m--> 201\u001B[0;31m                 \u001B[0mnumber\u001B[0m \u001B[0;34m=\u001B[0m \u001B[0mint\u001B[0m\u001B[0;34m(\u001B[0m\u001B[0mnumber\u001B[0m\u001B[0;34m)\u001B[0m\u001B[0;34m\u001B[0m\u001B[0;34m\u001B[0m\u001B[0m\n\u001B[0m\u001B[1;32m    202\u001B[0m             \u001B[0;32mexcept\u001B[0m \u001B[0mValueError\u001B[0m \u001B[0;32mas\u001B[0m \u001B[0me\u001B[0m\u001B[0;34m:\u001B[0m\u001B[0;34m\u001B[0m\u001B[0;34m\u001B[0m\u001B[0m\n",
      "\u001B[0;31mValueError\u001B[0m: invalid literal for int() with base 10: ''",
      "\nDuring handling of the above exception, another exception occurred:\n",
      "\u001B[0;31mNotANumberError\u001B[0m                           Traceback (most recent call last)",
      "\u001B[0;32m/tmp/ipykernel_14859/2158551885.py\u001B[0m in \u001B[0;36m<module>\u001B[0;34m\u001B[0m\n\u001B[1;32m     16\u001B[0m \u001B[0;34m\u001B[0m\u001B[0m\n\u001B[1;32m     17\u001B[0m \u001B[0;34m\u001B[0m\u001B[0m\n\u001B[0;32m---> 18\u001B[0;31m \u001B[0mage\u001B[0m \u001B[0;34m=\u001B[0m \u001B[0mascertain_age\u001B[0m\u001B[0;34m(\u001B[0m\u001B[0;34m)\u001B[0m\u001B[0;34m\u001B[0m\u001B[0;34m\u001B[0m\u001B[0m\n\u001B[0m\u001B[1;32m     19\u001B[0m \u001B[0mprint\u001B[0m\u001B[0;34m(\u001B[0m\u001B[0mage\u001B[0m\u001B[0;34m.\u001B[0m\u001B[0mcount_noun\u001B[0m\u001B[0;34m(\u001B[0m\u001B[0mas_int\u001B[0m\u001B[0;34m=\u001B[0m\u001B[0;32mTrue\u001B[0m\u001B[0;34m)\u001B[0m \u001B[0;34m+\u001B[0m \u001B[0;34m'-old.'\u001B[0m\u001B[0;34m)\u001B[0m\u001B[0;34m\u001B[0m\u001B[0;34m\u001B[0m\u001B[0m\n\u001B[1;32m     20\u001B[0m \u001B[0;34m\u001B[0m\u001B[0m\n",
      "\u001B[0;32m/tmp/ipykernel_14859/2158551885.py\u001B[0m in \u001B[0;36mascertain_age\u001B[0;34m()\u001B[0m\n\u001B[1;32m     13\u001B[0m         \u001B[0mascertain_age\u001B[0m\u001B[0;34m(\u001B[0m\u001B[0;34m)\u001B[0m\u001B[0;34m\u001B[0m\u001B[0;34m\u001B[0m\u001B[0m\n\u001B[1;32m     14\u001B[0m \u001B[0;34m\u001B[0m\u001B[0m\n\u001B[0;32m---> 15\u001B[0;31m     \u001B[0;32mreturn\u001B[0m \u001B[0mNumerical\u001B[0m\u001B[0;34m(\u001B[0m\u001B[0mret_age\u001B[0m\u001B[0;34m,\u001B[0m \u001B[0;34m'year'\u001B[0m\u001B[0;34m)\u001B[0m\u001B[0;34m\u001B[0m\u001B[0;34m\u001B[0m\u001B[0m\n\u001B[0m\u001B[1;32m     16\u001B[0m \u001B[0;34m\u001B[0m\u001B[0m\n\u001B[1;32m     17\u001B[0m \u001B[0;34m\u001B[0m\u001B[0m\n",
      "\u001B[0;32m~/Projects/Inspyre-Toolbox/inspyre_toolbox/humanize/__init__.py\u001B[0m in \u001B[0;36m__init__\u001B[0;34m(self, number, noun, store_as_float)\u001B[0m\n\u001B[1;32m    201\u001B[0m                 \u001B[0mnumber\u001B[0m \u001B[0;34m=\u001B[0m \u001B[0mint\u001B[0m\u001B[0;34m(\u001B[0m\u001B[0mnumber\u001B[0m\u001B[0;34m)\u001B[0m\u001B[0;34m\u001B[0m\u001B[0;34m\u001B[0m\u001B[0m\n\u001B[1;32m    202\u001B[0m             \u001B[0;32mexcept\u001B[0m \u001B[0mValueError\u001B[0m \u001B[0;32mas\u001B[0m \u001B[0me\u001B[0m\u001B[0;34m:\u001B[0m\u001B[0;34m\u001B[0m\u001B[0;34m\u001B[0m\u001B[0m\n\u001B[0;32m--> 203\u001B[0;31m                 raise NUM_ERR.NotANumberError(\n\u001B[0m\u001B[1;32m    204\u001B[0m                         \u001B[0mvar\u001B[0m\u001B[0;34m=\u001B[0m\u001B[0mnumber\u001B[0m\u001B[0;34m,\u001B[0m\u001B[0;34m\u001B[0m\u001B[0;34m\u001B[0m\u001B[0m\n\u001B[1;32m    205\u001B[0m                         \u001B[0mvar_name\u001B[0m\u001B[0;34m=\u001B[0m\u001B[0;34m\"number\"\u001B[0m\u001B[0;34m,\u001B[0m\u001B[0;34m\u001B[0m\u001B[0;34m\u001B[0m\u001B[0m\n",
      "\u001B[0;31mNotANumberError\u001B[0m: "
     ]
    }
   ],
   "source": [
    "from inspyre_toolbox.humanize import Numerical\n",
    "\n",
    "def ask_age():\n",
    "    return input('How old are you? ')\n",
    "\n",
    "def ascertain_age():\n",
    "    ret_age = ask_age()\n",
    "\n",
    "    try:\n",
    "        int(ret_age)\n",
    "    except ValueError:\n",
    "        print('Please enter a number!')\n",
    "        ascertain_age()\n",
    "\n",
    "    return Numerical(ret_age, 'year')\n",
    "\n",
    "\n",
    "age = ascertain_age()\n",
    "print(age.count_noun(as_int=True) + '-old.')\n",
    "\n",
    "# Here's what that looks like without calling anything on the class.\n",
    "print(age)\n",
    "\n",
    "# We can do math with it\n",
    "print(age + 20)\n",
    "print(age - 20)"
   ],
   "metadata": {
    "collapsed": false,
    "pycharm": {
     "name": "#%%\n"
    }
   }
  },
  {
   "cell_type": "code",
   "execution_count": 2,
   "outputs": [
    {
     "ename": "NameError",
     "evalue": "name 'age' is not defined",
     "output_type": "error",
     "traceback": [
      "\u001B[0;31m---------------------------------------------------------------------------\u001B[0m",
      "\u001B[0;31mNameError\u001B[0m                                 Traceback (most recent call last)",
      "\u001B[0;32m/tmp/ipykernel_14859/1016175272.py\u001B[0m in \u001B[0;36m<module>\u001B[0;34m\u001B[0m\n\u001B[0;32m----> 1\u001B[0;31m \u001B[0molder\u001B[0m \u001B[0;34m=\u001B[0m \u001B[0mage\u001B[0m \u001B[0;34m+\u001B[0m \u001B[0;36m20\u001B[0m\u001B[0;34m\u001B[0m\u001B[0;34m\u001B[0m\u001B[0m\n\u001B[0m",
      "\u001B[0;31mNameError\u001B[0m: name 'age' is not defined"
     ]
    }
   ],
   "source": [
    "older = age + 20\n"
   ],
   "metadata": {
    "collapsed": false,
    "pycharm": {
     "name": "#%%\n"
    }
   }
  }
 ],
 "metadata": {
  "kernelspec": {
   "display_name": "Python 3",
   "language": "python",
   "name": "python3"
  },
  "language_info": {
   "codemirror_mode": {
    "name": "ipython",
    "version": 2
   },
   "file_extension": ".py",
   "mimetype": "text/x-python",
   "name": "python",
   "nbconvert_exporter": "python",
   "pygments_lexer": "ipython2",
   "version": "2.7.6"
  }
 },
 "nbformat": 4,
 "nbformat_minor": 0
}