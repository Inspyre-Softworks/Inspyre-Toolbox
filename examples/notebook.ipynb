{
 "cells": [
  {
   "cell_type": "markdown",
   "metadata": {
    "collapsed": true,
    "pycharm": {
     "name": "#%% md\n"
    }
   },
   "source": [
    "# Some Examples and Usage of Inspyre Tooolbox"
   ]
  },
  {
   "cell_type": "markdown",
   "source": [
    "## .live_timer.Timer\n",
    "\n",
    "Here's one good example of this package in action.\n"
   ],
   "metadata": {
    "collapsed": false,
    "pycharm": {
     "name": "#%% md\n"
    }
   }
  },
  {
   "cell_type": "code",
   "execution_count": 6,
   "outputs": [
    {
     "name": "stdout",
     "output_type": "stream",
     "text": [
      "5 seconds!\n",
      "00:00:19\r"
     ]
    }
   ],
   "source": [
    "from inspyre_toolbox.live_timer import Timer\n",
    "from time import sleep\n",
    "from threading import Thread\n",
    "\n",
    "def warning():\n",
    "    print('5 sec warning!', end='\\r')\n",
    "    sleep(1)\n",
    "    print('', end='\\r')\n",
    "\n",
    "def stopwatch():\n",
    "\n",
    "    # Define the timer\n",
    "    timer = Timer()\n",
    "\n",
    "    # Start the timer.\n",
    "    timer.start()\n",
    "\n",
    "    for _ in list(range(20)):\n",
    "        print(timer.get_elapsed(), end='\\r')\n",
    "        if _ == 15:\n",
    "            print('5 seconds!')\n",
    "        sleep(1)\n",
    "\n",
    "# Let's call it.\n",
    "stopwatch()"
   ],
   "metadata": {
    "collapsed": false,
    "pycharm": {
     "name": "#%%\n"
    }
   }
  },
  {
   "cell_type": "markdown",
   "source": [
    "## .humanize.Numerical\n",
    "\n",
    "Here's a simple example of how a use case for 'Numerical';"
   ],
   "metadata": {
    "collapsed": false,
    "pycharm": {
     "name": "#%% md\n"
    }
   }
  },
  {
   "cell_type": "code",
   "execution_count": 3,
   "outputs": [
    {
     "name": "stdout",
     "output_type": "stream",
     "text": [
      "None\n",
      "year\n",
      "year\n",
      "31 years-old.\n"
     ]
    }
   ],
   "source": [
    "from inspyre_toolbox.humanize import Numerical\n",
    "\n",
    "def ask_age():\n",
    "    return input('How old are you? ')\n",
    "\n",
    "def ascertain_age():\n",
    "    ret_age = ask_age()\n",
    "\n",
    "    try:\n",
    "        int(ret_age)\n",
    "    except ValueError:\n",
    "        print('Please enter a number!')\n",
    "        ascertain_age()\n",
    "\n",
    "    return Numerical(ret_age, 'year')\n",
    "\n",
    "\n",
    "age = ascertain_age()\n",
    "print(age.count_noun(as_int=True) + '-old.')\n"
   ],
   "metadata": {
    "collapsed": false,
    "pycharm": {
     "name": "#%%\n"
    }
   }
  }
 ],
 "metadata": {
  "kernelspec": {
   "display_name": "Python 3",
   "language": "python",
   "name": "python3"
  },
  "language_info": {
   "codemirror_mode": {
    "name": "ipython",
    "version": 2
   },
   "file_extension": ".py",
   "mimetype": "text/x-python",
   "name": "python",
   "nbconvert_exporter": "python",
   "pygments_lexer": "ipython2",
   "version": "2.7.6"
  }
 },
 "nbformat": 4,
 "nbformat_minor": 0
}